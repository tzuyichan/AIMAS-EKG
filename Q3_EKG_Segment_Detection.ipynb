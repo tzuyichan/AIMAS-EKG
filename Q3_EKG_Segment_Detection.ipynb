{
  "nbformat": 4,
  "nbformat_minor": 0,
  "metadata": {
    "colab": {
      "name": "EKG Segment Detection (Model 1).ipynb",
      "provenance": [],
      "collapsed_sections": []
    },
    "kernelspec": {
      "name": "python3",
      "display_name": "Python 3"
    },
    "language_info": {
      "name": "python"
    },
    "accelerator": "GPU"
  },
  "cells": [
    {
      "cell_type": "code",
      "source": [
        "import os\n",
        "import numpy as np\n",
        "import matplotlib.pyplot as plt\n",
        "\n",
        "path = \"/content/drive/MyDrive/Academics/110-1 人工智慧於醫療應用與服務/HW1 EKG Detection/EKG_seg/\"\n",
        "os.chdir(path)\n",
        "os.getcwd()"
      ],
      "metadata": {
        "colab": {
          "base_uri": "https://localhost:8080/",
          "height": 35
        },
        "id": "GoUbK4UL-J1U",
        "outputId": "7b451e29-a286-405d-ce8f-7740581710dc"
      },
      "execution_count": 94,
      "outputs": [
        {
          "output_type": "execute_result",
          "data": {
            "application/vnd.google.colaboratory.intrinsic+json": {
              "type": "string"
            },
            "text/plain": [
              "'/content/drive/MyDrive/Academics/110-1 人工智慧於醫療應用與服務/HW1 EKG Detection/EKG_seg'"
            ]
          },
          "metadata": {},
          "execution_count": 94
        }
      ]
    },
    {
      "cell_type": "code",
      "source": [
        "fname = \"img.png\"\n",
        "label = \"label.png\"\n",
        "img_size = (480, 480)\n",
        "num_classes = 2\n",
        "batch_size = 4\n",
        "train_ratio = 0.9\n",
        "val_ratio = 0.1\n",
        "\n",
        "input_img_paths = sorted(\n",
        "    [\n",
        "        os.path.join(path, f\"{dir}/{fname}\")\n",
        "        for dir in os.listdir(path)\n",
        "        if not dir.endswith(\".h5\")\n",
        "    ]\n",
        ")\n",
        "\n",
        "target_img_paths = sorted(\n",
        "    [\n",
        "        os.path.join(path, f\"{dir}/{label}\")\n",
        "        for dir in os.listdir(path)\n",
        "        if not dir.endswith(\".h5\")\n",
        "    ]\n",
        ")\n",
        "\n",
        "sample_size = len(input_img_paths)\n",
        "print(\"Number of samples:\", sample_size)"
      ],
      "metadata": {
        "colab": {
          "base_uri": "https://localhost:8080/"
        },
        "id": "ZiHgGQZGAyPE",
        "outputId": "d3f2c547-96a0-46ca-c1db-026874733b30"
      },
      "execution_count": 95,
      "outputs": [
        {
          "output_type": "stream",
          "name": "stdout",
          "text": [
            "Number of samples: 230\n"
          ]
        }
      ]
    },
    {
      "cell_type": "code",
      "source": [
        "from tensorflow import keras\n",
        "from tensorflow.keras.preprocessing.image import load_img\n",
        "import numpy as np\n",
        "import math\n",
        "import cv2\n",
        "\n",
        "X_INIT_RATIO = 0.08 # 0.08, 1337/1448 = 0.92\n",
        "Y_INIT_RATIO = 0.36 # 0.36, 951/1024 = 0.93\n",
        "X_END_RATIO = 0.92\n",
        "Y_END_RATIO = 0.93\n",
        "WHITE = 255\n",
        "\n",
        "class EkgSegmentation(keras.utils.Sequence):\n",
        "    \"\"\"Helper to iterate over the data (as Numpy arrays).\"\"\"\n",
        "\n",
        "    def __init__(self, batch_size, img_size, input_img_paths, target_img_paths):\n",
        "        self.batch_size = batch_size\n",
        "        self.img_size = img_size\n",
        "        self.input_img_paths = input_img_paths\n",
        "        self.target_img_paths = target_img_paths\n",
        "\n",
        "    def __len__(self):\n",
        "        return math.ceil(len(self.target_img_paths) / self.batch_size)\n",
        "\n",
        "    def __getitem__(self, idx):\n",
        "        \"\"\"Returns tuple (input, target) correspond to batch #idx.\"\"\"\n",
        "        i = idx * self.batch_size\n",
        "        if i + self.batch_size > len(self.input_img_paths):  # last batch size < batch_size\n",
        "            batch_input_img_paths = self.input_img_paths[i : ]\n",
        "            batch_target_img_paths = self.target_img_paths[i : ]\n",
        "            self.batch_size = len(self.target_img_paths[i : ])\n",
        "        else:\n",
        "            batch_input_img_paths = self.input_img_paths[i : i + self.batch_size]\n",
        "            batch_target_img_paths = self.target_img_paths[i : i + self.batch_size]\n",
        "        x = np.zeros((self.batch_size,) + self.img_size + (1,), dtype=\"float32\")\n",
        "        for j, path in enumerate(batch_input_img_paths):\n",
        "            img = load_img(path, color_mode=\"grayscale\")\n",
        "            img = np.array(img)\n",
        "\n",
        "            # do preprocessing\n",
        "            img = self.clean_input_img(img)\n",
        "\n",
        "            img = cv2.resize(img, self.img_size)\n",
        "            x[j] = np.expand_dims(img, 2)\n",
        "        y = np.zeros((self.batch_size,) + self.img_size + (2,), dtype=\"uint8\")\n",
        "        for j, path in enumerate(batch_target_img_paths):\n",
        "            img = load_img(path, target_size=self.img_size, color_mode=\"grayscale\")  # red: 38, green: 75, black: 0\n",
        "            img = np.array(img)\n",
        "            y[j, :, :, 0] = np.where(img == 75, 1, 0)  # green\n",
        "            y[j, :, :, 1] = np.where(img == 38, 1, 0)  # red\n",
        "\n",
        "        return x, y\n",
        "\n",
        "    def clean_input_img(self, img: np.ndarray):\n",
        "        height = img.shape[0]\n",
        "        width = img.shape[1]\n",
        "\n",
        "        img[: int(Y_INIT_RATIO * height), :] = WHITE\n",
        "        img[int(Y_END_RATIO * height):, :] = WHITE\n",
        "        img[:, : int(X_INIT_RATIO * width)] = WHITE\n",
        "        img[:, int(X_END_RATIO * width):] = WHITE\n",
        "\n",
        "        threshold = 127\n",
        "        _, img = cv2.threshold(img, threshold, WHITE, cv2.THRESH_BINARY)\n",
        "\n",
        "        return img\n"
      ],
      "metadata": {
        "id": "cwVNmXIIHe72"
      },
      "execution_count": 96,
      "outputs": []
    },
    {
      "cell_type": "code",
      "source": [
        "from tensorflow.keras import layers\n",
        "from tensorflow.keras import optimizers\n",
        "\n",
        "def get_model(img_size, num_classes):\n",
        "    inputs = keras.Input(shape=img_size + (1,))\n",
        "\n",
        "    ### [First half of the network: downsampling inputs] ###\n",
        "\n",
        "    # Entry block\n",
        "    x = layers.Conv2D(32, 3, strides=2, padding=\"same\")(inputs)\n",
        "    x = layers.BatchNormalization()(x)\n",
        "    x = layers.Activation(\"relu\")(x)\n",
        "\n",
        "    previous_block_activation = x  # Set aside residual\n",
        "\n",
        "    # Blocks 1, 2, 3 are identical apart from the feature depth.\n",
        "    for filters in [64, 128, 256]:\n",
        "        x = layers.Activation(\"relu\")(x)\n",
        "        x = layers.SeparableConv2D(filters, 3, padding=\"same\")(x)\n",
        "        x = layers.BatchNormalization()(x)\n",
        "\n",
        "        x = layers.Activation(\"relu\")(x)\n",
        "        x = layers.SeparableConv2D(filters, 3, padding=\"same\")(x)\n",
        "        x = layers.BatchNormalization()(x)\n",
        "\n",
        "        x = layers.MaxPooling2D(3, strides=2, padding=\"same\")(x)\n",
        "\n",
        "        # Project residual\n",
        "        residual = layers.Conv2D(filters, 1, strides=2, padding=\"same\")(\n",
        "            previous_block_activation\n",
        "        )\n",
        "        x = layers.add([x, residual])  # Add back residual\n",
        "        previous_block_activation = x  # Set aside next residual\n",
        "\n",
        "    ### [Second half of the network: upsampling inputs] ###\n",
        "\n",
        "    for filters in [256, 128, 64, 32]:\n",
        "        x = layers.Activation(\"relu\")(x)\n",
        "        x = layers.Conv2DTranspose(filters, 3, padding=\"same\")(x)\n",
        "        x = layers.BatchNormalization()(x)\n",
        "\n",
        "        x = layers.Activation(\"relu\")(x)\n",
        "        x = layers.Conv2DTranspose(filters, 3, padding=\"same\")(x)\n",
        "        x = layers.BatchNormalization()(x)\n",
        "\n",
        "        x = layers.UpSampling2D(2)(x)\n",
        "\n",
        "        # Project residual\n",
        "        residual = layers.UpSampling2D(2)(previous_block_activation)\n",
        "        residual = layers.Conv2D(filters, 1, padding=\"same\")(residual)\n",
        "        x = layers.add([x, residual])  # Add back residual\n",
        "        previous_block_activation = x  # Set aside next residual\n",
        "\n",
        "    # Add a per-pixel classification layer\n",
        "    outputs = layers.Conv2D(num_classes, 3, activation=\"softmax\", padding=\"same\")(x)\n",
        "\n",
        "    # Define the model\n",
        "    model = keras.Model(inputs, outputs)\n",
        "    return model\n",
        "\n",
        "\n",
        "# Free up RAM in case the model definition cells were run multiple times\n",
        "keras.backend.clear_session()\n",
        "\n",
        "# Build model\n",
        "model = get_model(img_size, num_classes)\n",
        "# model.summary()"
      ],
      "metadata": {
        "id": "tiEs-yCvJAUp"
      },
      "execution_count": 97,
      "outputs": []
    },
    {
      "cell_type": "code",
      "source": [
        "import random\n",
        "\n",
        "# Split our img paths into a training and a validation set\n",
        "val_samples = int(sample_size * val_ratio)\n",
        "random.Random(1337).shuffle(input_img_paths)\n",
        "random.Random(1337).shuffle(target_img_paths)\n",
        "train_input_img_paths = input_img_paths[:-val_samples]\n",
        "train_target_img_paths = target_img_paths[:-val_samples]\n",
        "val_input_img_paths = input_img_paths[-val_samples:]\n",
        "val_target_img_paths = target_img_paths[-val_samples:]\n",
        "\n",
        "# Instantiate data Sequences for each split\n",
        "train_gen = EkgSegmentation(\n",
        "    batch_size, img_size, train_input_img_paths, train_target_img_paths\n",
        ")\n",
        "val_gen = EkgSegmentation(batch_size, img_size, val_input_img_paths, val_target_img_paths)"
      ],
      "metadata": {
        "id": "Q9_GhqsjJOpT"
      },
      "execution_count": 98,
      "outputs": []
    },
    {
      "cell_type": "markdown",
      "source": [
        "## Inference"
      ],
      "metadata": {
        "id": "pBtAGGZWRYCV"
      }
    },
    {
      "cell_type": "code",
      "source": [
        "from tensorflow import keras\n",
        "model = keras.models.load_model(\"res.480_batch.4_thres.127_epoch.50.h5\")\n",
        "\n",
        "# Generate predictions for all images in the validation set\n",
        "val_gen = EkgSegmentation(batch_size, img_size, val_input_img_paths, val_target_img_paths)\n",
        "val_preds = model.predict(val_gen)"
      ],
      "metadata": {
        "id": "ZGvT2JaP2YSY"
      },
      "execution_count": 99,
      "outputs": []
    },
    {
      "cell_type": "code",
      "source": [
        "size = (480, 340)\n",
        "\n",
        "def show_ground_truth(file: str):\n",
        "    ground = cv2.imread(file)\n",
        "    ground = cv2.cvtColor(ground, cv2.COLOR_BGR2RGB)\n",
        "    ground = cv2.resize(ground, size)\n",
        "    plt.imshow(ground)\n",
        "    plt.show()\n",
        "\n",
        "def show_pred(pred: np.ndarray, i: int):\n",
        "    colored_mask = np.zeros(img_size + (3,), dtype=np.uint8)\n",
        "    colored_mask[:, :, 1] = np.where(pred[i, :, :, 0] > 0.9, 200, 0)\n",
        "    colored_mask[:, :, 0] = np.where(pred[i, :, :, 1] > 0.9, 200, 0)\n",
        "    colored_mask = cv2.resize(colored_mask, size)\n",
        "    plt.imshow(colored_mask)\n",
        "    plt.show()"
      ],
      "metadata": {
        "id": "h2dXY4J6EVbK"
      },
      "execution_count": 100,
      "outputs": []
    },
    {
      "cell_type": "code",
      "source": [
        "import random\n",
        "i = random.randint(0, len(val_target_img_paths))\n",
        "show_ground_truth(val_target_img_paths[i])\n",
        "show_pred(val_preds, i)"
      ],
      "metadata": {
        "colab": {
          "base_uri": "https://localhost:8080/",
          "height": 521
        },
        "id": "GLbJNFQiFVrP",
        "outputId": "9ce1124d-7c16-46ff-97e0-59ab3aa16ea6"
      },
      "execution_count": 105,
      "outputs": [
        {
          "output_type": "display_data",
          "data": {
            "image/png": "[encoded data removed]",
            "text/plain": [
              "<Figure size 432x288 with 1 Axes>"
            ]
          },
          "metadata": {
            "needs_background": "light"
          }
        },
        {
          "output_type": "display_data",
          "data": {
            "image/png": "[encoded data removed]",
            "text/plain": [
              "<Figure size 432x288 with 1 Axes>"
            ]
          },
          "metadata": {
            "needs_background": "light"
          }
        }
      ]
    },
    {
      "cell_type": "markdown",
      "source": [
        "## Training"
      ],
      "metadata": {
        "id": "HgSEpM7XSNe4"
      }
    },
    {
      "cell_type": "code",
      "source": [
        "# Configure the model for training.\n",
        "model.compile(optimizer=optimizers.Adam(lr = 1e-3), loss=\"binary_crossentropy\")\n",
        "\n",
        "callbacks = [\n",
        "    keras.callbacks.ModelCheckpoint(\"ekg_segmentation.h5\", monitor='val_loss', save_best_only=True)\n",
        "]\n",
        "\n",
        "# Train the model, doing validation at the end of each epoch.\n",
        "epochs = 50\n",
        "model.fit(train_gen, epochs=epochs, validation_data=val_gen, callbacks=callbacks)"
      ],
      "metadata": {
        "id": "7wDQ5AkmY_ix"
      },
      "execution_count": null,
      "outputs": []
    },
    {
      "cell_type": "code",
      "source": [
        "# Generate predictions for all images in the validation set\n",
        "\n",
        "val_gen = EkgSegmentation(batch_size, img_size, val_input_img_paths, val_target_img_paths)\n",
        "val_preds = model.predict(val_gen)"
      ],
      "metadata": {
        "id": "nPAMPkGJZMt-"
      },
      "execution_count": null,
      "outputs": []
    },
    {
      "cell_type": "code",
      "source": [
        ""
      ],
      "metadata": {
        "id": "KnVl6Yrh8yv8"
      },
      "execution_count": 90,
      "outputs": []
    }
  ]
}